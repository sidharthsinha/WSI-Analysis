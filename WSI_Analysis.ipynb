{
  "nbformat": 4,
  "nbformat_minor": 0,
  "metadata": {
    "colab": {
      "name": "WSI Analysis.ipynb",
      "provenance": [],
      "collapsed_sections": [],
      "mount_file_id": "1DlnaezWZocmpPcrPMM2sXVNb8zeAMyqp",
      "authorship_tag": "ABX9TyOLUegAyBJEAPp+cTBTZ1LP",
      "include_colab_link": true
    },
    "kernelspec": {
      "name": "python3",
      "display_name": "Python 3"
    },
    "language_info": {
      "name": "python"
    }
  },
  "cells": [
    {
      "cell_type": "markdown",
      "metadata": {
        "id": "view-in-github",
        "colab_type": "text"
      },
      "source": [
        "<a href=\"https://colab.research.google.com/github/sidharthsinha/WSI-Analysis/blob/main/WSI_Analysis.ipynb\" target=\"_parent\"><img src=\"https://colab.research.google.com/assets/colab-badge.svg\" alt=\"Open In Colab\"/></a>"
      ]
    },
    {
      "cell_type": "code",
      "metadata": {
        "colab": {
          "base_uri": "https://localhost:8080/"
        },
        "id": "I-1hvYhpL4Vc",
        "outputId": "b0ac80d4-5074-42eb-a862-c7c46d113e8d"
      },
      "source": [
        "pip install 'h5py<3.0.0'"
      ],
      "execution_count": 1,
      "outputs": [
        {
          "output_type": "stream",
          "name": "stdout",
          "text": [
            "Collecting h5py<3.0.0\n",
            "  Downloading h5py-2.10.0-cp37-cp37m-manylinux1_x86_64.whl (2.9 MB)\n",
            "\u001b[?25l\r\u001b[K     |▏                               | 10 kB 20.5 MB/s eta 0:00:01\r\u001b[K     |▎                               | 20 kB 20.5 MB/s eta 0:00:01\r\u001b[K     |▍                               | 30 kB 22.1 MB/s eta 0:00:01\r\u001b[K     |▌                               | 40 kB 25.3 MB/s eta 0:00:01\r\u001b[K     |▋                               | 51 kB 27.8 MB/s eta 0:00:01\r\u001b[K     |▊                               | 61 kB 30.2 MB/s eta 0:00:01\r\u001b[K     |▉                               | 71 kB 31.5 MB/s eta 0:00:01\r\u001b[K     |█                               | 81 kB 32.5 MB/s eta 0:00:01\r\u001b[K     |█                               | 92 kB 32.1 MB/s eta 0:00:01\r\u001b[K     |█▏                              | 102 kB 32.2 MB/s eta 0:00:01\r\u001b[K     |█▎                              | 112 kB 32.2 MB/s eta 0:00:01\r\u001b[K     |█▍                              | 122 kB 32.2 MB/s eta 0:00:01\r\u001b[K     |█▌                              | 133 kB 32.2 MB/s eta 0:00:01\r\u001b[K     |█▋                              | 143 kB 32.2 MB/s eta 0:00:01\r\u001b[K     |█▊                              | 153 kB 32.2 MB/s eta 0:00:01\r\u001b[K     |█▉                              | 163 kB 32.2 MB/s eta 0:00:01\r\u001b[K     |██                              | 174 kB 32.2 MB/s eta 0:00:01\r\u001b[K     |██                              | 184 kB 32.2 MB/s eta 0:00:01\r\u001b[K     |██▏                             | 194 kB 32.2 MB/s eta 0:00:01\r\u001b[K     |██▎                             | 204 kB 32.2 MB/s eta 0:00:01\r\u001b[K     |██▍                             | 215 kB 32.2 MB/s eta 0:00:01\r\u001b[K     |██▌                             | 225 kB 32.2 MB/s eta 0:00:01\r\u001b[K     |██▋                             | 235 kB 32.2 MB/s eta 0:00:01\r\u001b[K     |██▊                             | 245 kB 32.2 MB/s eta 0:00:01\r\u001b[K     |██▉                             | 256 kB 32.2 MB/s eta 0:00:01\r\u001b[K     |███                             | 266 kB 32.2 MB/s eta 0:00:01\r\u001b[K     |███                             | 276 kB 32.2 MB/s eta 0:00:01\r\u001b[K     |███▏                            | 286 kB 32.2 MB/s eta 0:00:01\r\u001b[K     |███▎                            | 296 kB 32.2 MB/s eta 0:00:01\r\u001b[K     |███▍                            | 307 kB 32.2 MB/s eta 0:00:01\r\u001b[K     |███▌                            | 317 kB 32.2 MB/s eta 0:00:01\r\u001b[K     |███▋                            | 327 kB 32.2 MB/s eta 0:00:01\r\u001b[K     |███▊                            | 337 kB 32.2 MB/s eta 0:00:01\r\u001b[K     |███▉                            | 348 kB 32.2 MB/s eta 0:00:01\r\u001b[K     |████                            | 358 kB 32.2 MB/s eta 0:00:01\r\u001b[K     |████                            | 368 kB 32.2 MB/s eta 0:00:01\r\u001b[K     |████▎                           | 378 kB 32.2 MB/s eta 0:00:01\r\u001b[K     |████▍                           | 389 kB 32.2 MB/s eta 0:00:01\r\u001b[K     |████▌                           | 399 kB 32.2 MB/s eta 0:00:01\r\u001b[K     |████▋                           | 409 kB 32.2 MB/s eta 0:00:01\r\u001b[K     |████▊                           | 419 kB 32.2 MB/s eta 0:00:01\r\u001b[K     |████▉                           | 430 kB 32.2 MB/s eta 0:00:01\r\u001b[K     |█████                           | 440 kB 32.2 MB/s eta 0:00:01\r\u001b[K     |█████                           | 450 kB 32.2 MB/s eta 0:00:01\r\u001b[K     |█████▏                          | 460 kB 32.2 MB/s eta 0:00:01\r\u001b[K     |█████▎                          | 471 kB 32.2 MB/s eta 0:00:01\r\u001b[K     |█████▍                          | 481 kB 32.2 MB/s eta 0:00:01\r\u001b[K     |█████▌                          | 491 kB 32.2 MB/s eta 0:00:01\r\u001b[K     |█████▋                          | 501 kB 32.2 MB/s eta 0:00:01\r\u001b[K     |█████▊                          | 512 kB 32.2 MB/s eta 0:00:01\r\u001b[K     |█████▉                          | 522 kB 32.2 MB/s eta 0:00:01\r\u001b[K     |██████                          | 532 kB 32.2 MB/s eta 0:00:01\r\u001b[K     |██████                          | 542 kB 32.2 MB/s eta 0:00:01\r\u001b[K     |██████▏                         | 552 kB 32.2 MB/s eta 0:00:01\r\u001b[K     |██████▎                         | 563 kB 32.2 MB/s eta 0:00:01\r\u001b[K     |██████▍                         | 573 kB 32.2 MB/s eta 0:00:01\r\u001b[K     |██████▌                         | 583 kB 32.2 MB/s eta 0:00:01\r\u001b[K     |██████▋                         | 593 kB 32.2 MB/s eta 0:00:01\r\u001b[K     |██████▊                         | 604 kB 32.2 MB/s eta 0:00:01\r\u001b[K     |██████▉                         | 614 kB 32.2 MB/s eta 0:00:01\r\u001b[K     |███████                         | 624 kB 32.2 MB/s eta 0:00:01\r\u001b[K     |███████                         | 634 kB 32.2 MB/s eta 0:00:01\r\u001b[K     |███████▏                        | 645 kB 32.2 MB/s eta 0:00:01\r\u001b[K     |███████▎                        | 655 kB 32.2 MB/s eta 0:00:01\r\u001b[K     |███████▍                        | 665 kB 32.2 MB/s eta 0:00:01\r\u001b[K     |███████▌                        | 675 kB 32.2 MB/s eta 0:00:01\r\u001b[K     |███████▋                        | 686 kB 32.2 MB/s eta 0:00:01\r\u001b[K     |███████▊                        | 696 kB 32.2 MB/s eta 0:00:01\r\u001b[K     |███████▉                        | 706 kB 32.2 MB/s eta 0:00:01\r\u001b[K     |████████                        | 716 kB 32.2 MB/s eta 0:00:01\r\u001b[K     |████████                        | 727 kB 32.2 MB/s eta 0:00:01\r\u001b[K     |████████▏                       | 737 kB 32.2 MB/s eta 0:00:01\r\u001b[K     |████████▍                       | 747 kB 32.2 MB/s eta 0:00:01\r\u001b[K     |████████▌                       | 757 kB 32.2 MB/s eta 0:00:01\r\u001b[K     |████████▋                       | 768 kB 32.2 MB/s eta 0:00:01\r\u001b[K     |████████▊                       | 778 kB 32.2 MB/s eta 0:00:01\r\u001b[K     |████████▉                       | 788 kB 32.2 MB/s eta 0:00:01\r\u001b[K     |█████████                       | 798 kB 32.2 MB/s eta 0:00:01\r\u001b[K     |█████████                       | 808 kB 32.2 MB/s eta 0:00:01\r\u001b[K     |█████████▏                      | 819 kB 32.2 MB/s eta 0:00:01\r\u001b[K     |█████████▎                      | 829 kB 32.2 MB/s eta 0:00:01\r\u001b[K     |█████████▍                      | 839 kB 32.2 MB/s eta 0:00:01\r\u001b[K     |█████████▌                      | 849 kB 32.2 MB/s eta 0:00:01\r\u001b[K     |█████████▋                      | 860 kB 32.2 MB/s eta 0:00:01\r\u001b[K     |█████████▊                      | 870 kB 32.2 MB/s eta 0:00:01\r\u001b[K     |█████████▉                      | 880 kB 32.2 MB/s eta 0:00:01\r\u001b[K     |██████████                      | 890 kB 32.2 MB/s eta 0:00:01\r\u001b[K     |██████████                      | 901 kB 32.2 MB/s eta 0:00:01\r\u001b[K     |██████████▏                     | 911 kB 32.2 MB/s eta 0:00:01\r\u001b[K     |██████████▎                     | 921 kB 32.2 MB/s eta 0:00:01\r\u001b[K     |██████████▍                     | 931 kB 32.2 MB/s eta 0:00:01\r\u001b[K     |██████████▌                     | 942 kB 32.2 MB/s eta 0:00:01\r\u001b[K     |██████████▋                     | 952 kB 32.2 MB/s eta 0:00:01\r\u001b[K     |██████████▊                     | 962 kB 32.2 MB/s eta 0:00:01\r\u001b[K     |██████████▉                     | 972 kB 32.2 MB/s eta 0:00:01\r\u001b[K     |███████████                     | 983 kB 32.2 MB/s eta 0:00:01\r\u001b[K     |███████████                     | 993 kB 32.2 MB/s eta 0:00:01\r\u001b[K     |███████████▏                    | 1.0 MB 32.2 MB/s eta 0:00:01\r\u001b[K     |███████████▎                    | 1.0 MB 32.2 MB/s eta 0:00:01\r\u001b[K     |███████████▍                    | 1.0 MB 32.2 MB/s eta 0:00:01\r\u001b[K     |███████████▌                    | 1.0 MB 32.2 MB/s eta 0:00:01\r\u001b[K     |███████████▋                    | 1.0 MB 32.2 MB/s eta 0:00:01\r\u001b[K     |███████████▊                    | 1.1 MB 32.2 MB/s eta 0:00:01\r\u001b[K     |███████████▉                    | 1.1 MB 32.2 MB/s eta 0:00:01\r\u001b[K     |████████████                    | 1.1 MB 32.2 MB/s eta 0:00:01\r\u001b[K     |████████████                    | 1.1 MB 32.2 MB/s eta 0:00:01\r\u001b[K     |████████████▏                   | 1.1 MB 32.2 MB/s eta 0:00:01\r\u001b[K     |████████████▎                   | 1.1 MB 32.2 MB/s eta 0:00:01\r\u001b[K     |████████████▌                   | 1.1 MB 32.2 MB/s eta 0:00:01\r\u001b[K     |████████████▋                   | 1.1 MB 32.2 MB/s eta 0:00:01\r\u001b[K     |████████████▊                   | 1.1 MB 32.2 MB/s eta 0:00:01\r\u001b[K     |████████████▉                   | 1.1 MB 32.2 MB/s eta 0:00:01\r\u001b[K     |█████████████                   | 1.2 MB 32.2 MB/s eta 0:00:01\r\u001b[K     |█████████████                   | 1.2 MB 32.2 MB/s eta 0:00:01\r\u001b[K     |█████████████▏                  | 1.2 MB 32.2 MB/s eta 0:00:01\r\u001b[K     |█████████████▎                  | 1.2 MB 32.2 MB/s eta 0:00:01\r\u001b[K     |█████████████▍                  | 1.2 MB 32.2 MB/s eta 0:00:01\r\u001b[K     |█████████████▌                  | 1.2 MB 32.2 MB/s eta 0:00:01\r\u001b[K     |█████████████▋                  | 1.2 MB 32.2 MB/s eta 0:00:01\r\u001b[K     |█████████████▊                  | 1.2 MB 32.2 MB/s eta 0:00:01\r\u001b[K     |█████████████▉                  | 1.2 MB 32.2 MB/s eta 0:00:01\r\u001b[K     |██████████████                  | 1.2 MB 32.2 MB/s eta 0:00:01\r\u001b[K     |██████████████                  | 1.3 MB 32.2 MB/s eta 0:00:01\r\u001b[K     |██████████████▏                 | 1.3 MB 32.2 MB/s eta 0:00:01\r\u001b[K     |██████████████▎                 | 1.3 MB 32.2 MB/s eta 0:00:01\r\u001b[K     |██████████████▍                 | 1.3 MB 32.2 MB/s eta 0:00:01\r\u001b[K     |██████████████▌                 | 1.3 MB 32.2 MB/s eta 0:00:01\r\u001b[K     |██████████████▋                 | 1.3 MB 32.2 MB/s eta 0:00:01\r\u001b[K     |██████████████▊                 | 1.3 MB 32.2 MB/s eta 0:00:01\r\u001b[K     |██████████████▉                 | 1.3 MB 32.2 MB/s eta 0:00:01\r\u001b[K     |███████████████                 | 1.3 MB 32.2 MB/s eta 0:00:01\r\u001b[K     |███████████████                 | 1.4 MB 32.2 MB/s eta 0:00:01\r\u001b[K     |███████████████▏                | 1.4 MB 32.2 MB/s eta 0:00:01\r\u001b[K     |███████████████▎                | 1.4 MB 32.2 MB/s eta 0:00:01\r\u001b[K     |███████████████▍                | 1.4 MB 32.2 MB/s eta 0:00:01\r\u001b[K     |███████████████▌                | 1.4 MB 32.2 MB/s eta 0:00:01\r\u001b[K     |███████████████▋                | 1.4 MB 32.2 MB/s eta 0:00:01\r\u001b[K     |███████████████▊                | 1.4 MB 32.2 MB/s eta 0:00:01\r\u001b[K     |███████████████▉                | 1.4 MB 32.2 MB/s eta 0:00:01\r\u001b[K     |████████████████                | 1.4 MB 32.2 MB/s eta 0:00:01\r\u001b[K     |████████████████                | 1.4 MB 32.2 MB/s eta 0:00:01\r\u001b[K     |████████████████▏               | 1.5 MB 32.2 MB/s eta 0:00:01\r\u001b[K     |████████████████▎               | 1.5 MB 32.2 MB/s eta 0:00:01\r\u001b[K     |████████████████▍               | 1.5 MB 32.2 MB/s eta 0:00:01\r\u001b[K     |████████████████▋               | 1.5 MB 32.2 MB/s eta 0:00:01\r\u001b[K     |████████████████▊               | 1.5 MB 32.2 MB/s eta 0:00:01\r\u001b[K     |████████████████▉               | 1.5 MB 32.2 MB/s eta 0:00:01\r\u001b[K     |█████████████████               | 1.5 MB 32.2 MB/s eta 0:00:01\r\u001b[K     |█████████████████               | 1.5 MB 32.2 MB/s eta 0:00:01\r\u001b[K     |█████████████████▏              | 1.5 MB 32.2 MB/s eta 0:00:01\r\u001b[K     |█████████████████▎              | 1.5 MB 32.2 MB/s eta 0:00:01\r\u001b[K     |█████████████████▍              | 1.6 MB 32.2 MB/s eta 0:00:01\r\u001b[K     |█████████████████▌              | 1.6 MB 32.2 MB/s eta 0:00:01\r\u001b[K     |█████████████████▋              | 1.6 MB 32.2 MB/s eta 0:00:01\r\u001b[K     |█████████████████▊              | 1.6 MB 32.2 MB/s eta 0:00:01\r\u001b[K     |█████████████████▉              | 1.6 MB 32.2 MB/s eta 0:00:01\r\u001b[K     |██████████████████              | 1.6 MB 32.2 MB/s eta 0:00:01\r\u001b[K     |██████████████████              | 1.6 MB 32.2 MB/s eta 0:00:01\r\u001b[K     |██████████████████▏             | 1.6 MB 32.2 MB/s eta 0:00:01\r\u001b[K     |██████████████████▎             | 1.6 MB 32.2 MB/s eta 0:00:01\r\u001b[K     |██████████████████▍             | 1.6 MB 32.2 MB/s eta 0:00:01\r\u001b[K     |██████████████████▌             | 1.7 MB 32.2 MB/s eta 0:00:01\r\u001b[K     |██████████████████▋             | 1.7 MB 32.2 MB/s eta 0:00:01\r\u001b[K     |██████████████████▊             | 1.7 MB 32.2 MB/s eta 0:00:01\r\u001b[K     |██████████████████▉             | 1.7 MB 32.2 MB/s eta 0:00:01\r\u001b[K     |███████████████████             | 1.7 MB 32.2 MB/s eta 0:00:01\r\u001b[K     |███████████████████             | 1.7 MB 32.2 MB/s eta 0:00:01\r\u001b[K     |███████████████████▏            | 1.7 MB 32.2 MB/s eta 0:00:01\r\u001b[K     |███████████████████▎            | 1.7 MB 32.2 MB/s eta 0:00:01\r\u001b[K     |███████████████████▍            | 1.7 MB 32.2 MB/s eta 0:00:01\r\u001b[K     |███████████████████▌            | 1.8 MB 32.2 MB/s eta 0:00:01\r\u001b[K     |███████████████████▋            | 1.8 MB 32.2 MB/s eta 0:00:01\r\u001b[K     |███████████████████▊            | 1.8 MB 32.2 MB/s eta 0:00:01\r\u001b[K     |███████████████████▉            | 1.8 MB 32.2 MB/s eta 0:00:01\r\u001b[K     |████████████████████            | 1.8 MB 32.2 MB/s eta 0:00:01\r\u001b[K     |████████████████████            | 1.8 MB 32.2 MB/s eta 0:00:01\r\u001b[K     |████████████████████▏           | 1.8 MB 32.2 MB/s eta 0:00:01\r\u001b[K     |████████████████████▎           | 1.8 MB 32.2 MB/s eta 0:00:01\r\u001b[K     |████████████████████▍           | 1.8 MB 32.2 MB/s eta 0:00:01\r\u001b[K     |████████████████████▌           | 1.8 MB 32.2 MB/s eta 0:00:01\r\u001b[K     |████████████████████▊           | 1.9 MB 32.2 MB/s eta 0:00:01\r\u001b[K     |████████████████████▉           | 1.9 MB 32.2 MB/s eta 0:00:01\r\u001b[K     |█████████████████████           | 1.9 MB 32.2 MB/s eta 0:00:01\r\u001b[K     |█████████████████████           | 1.9 MB 32.2 MB/s eta 0:00:01\r\u001b[K     |█████████████████████▏          | 1.9 MB 32.2 MB/s eta 0:00:01\r\u001b[K     |█████████████████████▎          | 1.9 MB 32.2 MB/s eta 0:00:01\r\u001b[K     |█████████████████████▍          | 1.9 MB 32.2 MB/s eta 0:00:01\r\u001b[K     |█████████████████████▌          | 1.9 MB 32.2 MB/s eta 0:00:01\r\u001b[K     |█████████████████████▋          | 1.9 MB 32.2 MB/s eta 0:00:01\r\u001b[K     |█████████████████████▊          | 1.9 MB 32.2 MB/s eta 0:00:01\r\u001b[K     |█████████████████████▉          | 2.0 MB 32.2 MB/s eta 0:00:01\r\u001b[K     |██████████████████████          | 2.0 MB 32.2 MB/s eta 0:00:01\r\u001b[K     |██████████████████████          | 2.0 MB 32.2 MB/s eta 0:00:01\r\u001b[K     |██████████████████████▏         | 2.0 MB 32.2 MB/s eta 0:00:01\r\u001b[K     |██████████████████████▎         | 2.0 MB 32.2 MB/s eta 0:00:01\r\u001b[K     |██████████████████████▍         | 2.0 MB 32.2 MB/s eta 0:00:01\r\u001b[K     |██████████████████████▌         | 2.0 MB 32.2 MB/s eta 0:00:01\r\u001b[K     |██████████████████████▋         | 2.0 MB 32.2 MB/s eta 0:00:01\r\u001b[K     |██████████████████████▊         | 2.0 MB 32.2 MB/s eta 0:00:01\r\u001b[K     |██████████████████████▉         | 2.0 MB 32.2 MB/s eta 0:00:01\r\u001b[K     |███████████████████████         | 2.1 MB 32.2 MB/s eta 0:00:01\r\u001b[K     |███████████████████████         | 2.1 MB 32.2 MB/s eta 0:00:01\r\u001b[K     |███████████████████████▏        | 2.1 MB 32.2 MB/s eta 0:00:01\r\u001b[K     |███████████████████████▎        | 2.1 MB 32.2 MB/s eta 0:00:01\r\u001b[K     |███████████████████████▍        | 2.1 MB 32.2 MB/s eta 0:00:01\r\u001b[K     |███████████████████████▌        | 2.1 MB 32.2 MB/s eta 0:00:01\r\u001b[K     |███████████████████████▋        | 2.1 MB 32.2 MB/s eta 0:00:01\r\u001b[K     |███████████████████████▊        | 2.1 MB 32.2 MB/s eta 0:00:01\r\u001b[K     |███████████████████████▉        | 2.1 MB 32.2 MB/s eta 0:00:01\r\u001b[K     |████████████████████████        | 2.2 MB 32.2 MB/s eta 0:00:01\r\u001b[K     |████████████████████████        | 2.2 MB 32.2 MB/s eta 0:00:01\r\u001b[K     |████████████████████████▏       | 2.2 MB 32.2 MB/s eta 0:00:01\r\u001b[K     |████████████████████████▎       | 2.2 MB 32.2 MB/s eta 0:00:01\r\u001b[K     |████████████████████████▍       | 2.2 MB 32.2 MB/s eta 0:00:01\r\u001b[K     |████████████████████████▌       | 2.2 MB 32.2 MB/s eta 0:00:01\r\u001b[K     |████████████████████████▋       | 2.2 MB 32.2 MB/s eta 0:00:01\r\u001b[K     |████████████████████████▊       | 2.2 MB 32.2 MB/s eta 0:00:01\r\u001b[K     |█████████████████████████       | 2.2 MB 32.2 MB/s eta 0:00:01\r\u001b[K     |█████████████████████████       | 2.2 MB 32.2 MB/s eta 0:00:01\r\u001b[K     |█████████████████████████▏      | 2.3 MB 32.2 MB/s eta 0:00:01\r\u001b[K     |█████████████████████████▎      | 2.3 MB 32.2 MB/s eta 0:00:01\r\u001b[K     |█████████████████████████▍      | 2.3 MB 32.2 MB/s eta 0:00:01\r\u001b[K     |█████████████████████████▌      | 2.3 MB 32.2 MB/s eta 0:00:01\r\u001b[K     |█████████████████████████▋      | 2.3 MB 32.2 MB/s eta 0:00:01\r\u001b[K     |█████████████████████████▊      | 2.3 MB 32.2 MB/s eta 0:00:01\r\u001b[K     |█████████████████████████▉      | 2.3 MB 32.2 MB/s eta 0:00:01\r\u001b[K     |██████████████████████████      | 2.3 MB 32.2 MB/s eta 0:00:01\r\u001b[K     |██████████████████████████      | 2.3 MB 32.2 MB/s eta 0:00:01\r\u001b[K     |██████████████████████████▏     | 2.3 MB 32.2 MB/s eta 0:00:01\r\u001b[K     |██████████████████████████▎     | 2.4 MB 32.2 MB/s eta 0:00:01\r\u001b[K     |██████████████████████████▍     | 2.4 MB 32.2 MB/s eta 0:00:01\r\u001b[K     |██████████████████████████▌     | 2.4 MB 32.2 MB/s eta 0:00:01\r\u001b[K     |██████████████████████████▋     | 2.4 MB 32.2 MB/s eta 0:00:01\r\u001b[K     |██████████████████████████▊     | 2.4 MB 32.2 MB/s eta 0:00:01\r\u001b[K     |██████████████████████████▉     | 2.4 MB 32.2 MB/s eta 0:00:01\r\u001b[K     |███████████████████████████     | 2.4 MB 32.2 MB/s eta 0:00:01\r\u001b[K     |███████████████████████████     | 2.4 MB 32.2 MB/s eta 0:00:01\r\u001b[K     |███████████████████████████▏    | 2.4 MB 32.2 MB/s eta 0:00:01\r\u001b[K     |███████████████████████████▎    | 2.4 MB 32.2 MB/s eta 0:00:01\r\u001b[K     |███████████████████████████▍    | 2.5 MB 32.2 MB/s eta 0:00:01\r\u001b[K     |███████████████████████████▌    | 2.5 MB 32.2 MB/s eta 0:00:01\r\u001b[K     |███████████████████████████▋    | 2.5 MB 32.2 MB/s eta 0:00:01\r\u001b[K     |███████████████████████████▊    | 2.5 MB 32.2 MB/s eta 0:00:01\r\u001b[K     |███████████████████████████▉    | 2.5 MB 32.2 MB/s eta 0:00:01\r\u001b[K     |████████████████████████████    | 2.5 MB 32.2 MB/s eta 0:00:01\r\u001b[K     |████████████████████████████    | 2.5 MB 32.2 MB/s eta 0:00:01\r\u001b[K     |████████████████████████████▏   | 2.5 MB 32.2 MB/s eta 0:00:01\r\u001b[K     |████████████████████████████▎   | 2.5 MB 32.2 MB/s eta 0:00:01\r\u001b[K     |████████████████████████████▍   | 2.5 MB 32.2 MB/s eta 0:00:01\r\u001b[K     |████████████████████████████▌   | 2.6 MB 32.2 MB/s eta 0:00:01\r\u001b[K     |████████████████████████████▋   | 2.6 MB 32.2 MB/s eta 0:00:01\r\u001b[K     |████████████████████████████▊   | 2.6 MB 32.2 MB/s eta 0:00:01\r\u001b[K     |████████████████████████████▉   | 2.6 MB 32.2 MB/s eta 0:00:01\r\u001b[K     |█████████████████████████████   | 2.6 MB 32.2 MB/s eta 0:00:01\r\u001b[K     |█████████████████████████████▏  | 2.6 MB 32.2 MB/s eta 0:00:01\r\u001b[K     |█████████████████████████████▎  | 2.6 MB 32.2 MB/s eta 0:00:01\r\u001b[K     |█████████████████████████████▍  | 2.6 MB 32.2 MB/s eta 0:00:01\r\u001b[K     |█████████████████████████████▌  | 2.6 MB 32.2 MB/s eta 0:00:01\r\u001b[K     |█████████████████████████████▋  | 2.7 MB 32.2 MB/s eta 0:00:01\r\u001b[K     |█████████████████████████████▊  | 2.7 MB 32.2 MB/s eta 0:00:01\r\u001b[K     |█████████████████████████████▉  | 2.7 MB 32.2 MB/s eta 0:00:01\r\u001b[K     |██████████████████████████████  | 2.7 MB 32.2 MB/s eta 0:00:01\r\u001b[K     |██████████████████████████████  | 2.7 MB 32.2 MB/s eta 0:00:01\r\u001b[K     |██████████████████████████████▏ | 2.7 MB 32.2 MB/s eta 0:00:01\r\u001b[K     |██████████████████████████████▎ | 2.7 MB 32.2 MB/s eta 0:00:01\r\u001b[K     |██████████████████████████████▍ | 2.7 MB 32.2 MB/s eta 0:00:01\r\u001b[K     |██████████████████████████████▌ | 2.7 MB 32.2 MB/s eta 0:00:01\r\u001b[K     |██████████████████████████████▋ | 2.7 MB 32.2 MB/s eta 0:00:01\r\u001b[K     |██████████████████████████████▊ | 2.8 MB 32.2 MB/s eta 0:00:01\r\u001b[K     |██████████████████████████████▉ | 2.8 MB 32.2 MB/s eta 0:00:01\r\u001b[K     |███████████████████████████████ | 2.8 MB 32.2 MB/s eta 0:00:01\r\u001b[K     |███████████████████████████████ | 2.8 MB 32.2 MB/s eta 0:00:01\r\u001b[K     |███████████████████████████████▏| 2.8 MB 32.2 MB/s eta 0:00:01\r\u001b[K     |███████████████████████████████▎| 2.8 MB 32.2 MB/s eta 0:00:01\r\u001b[K     |███████████████████████████████▍| 2.8 MB 32.2 MB/s eta 0:00:01\r\u001b[K     |███████████████████████████████▌| 2.8 MB 32.2 MB/s eta 0:00:01\r\u001b[K     |███████████████████████████████▋| 2.8 MB 32.2 MB/s eta 0:00:01\r\u001b[K     |███████████████████████████████▊| 2.8 MB 32.2 MB/s eta 0:00:01\r\u001b[K     |███████████████████████████████▉| 2.9 MB 32.2 MB/s eta 0:00:01\r\u001b[K     |████████████████████████████████| 2.9 MB 32.2 MB/s eta 0:00:01\r\u001b[K     |████████████████████████████████| 2.9 MB 32.2 MB/s \n",
            "\u001b[?25hRequirement already satisfied: six in /usr/local/lib/python3.7/dist-packages (from h5py<3.0.0) (1.15.0)\n",
            "Requirement already satisfied: numpy>=1.7 in /usr/local/lib/python3.7/dist-packages (from h5py<3.0.0) (1.19.5)\n",
            "Installing collected packages: h5py\n",
            "  Attempting uninstall: h5py\n",
            "    Found existing installation: h5py 3.1.0\n",
            "    Uninstalling h5py-3.1.0:\n",
            "      Successfully uninstalled h5py-3.1.0\n",
            "\u001b[31mERROR: pip's dependency resolver does not currently take into account all the packages that are installed. This behaviour is the source of the following dependency conflicts.\n",
            "tensorflow 2.6.0 requires h5py~=3.1.0, but you have h5py 2.10.0 which is incompatible.\u001b[0m\n",
            "Successfully installed h5py-2.10.0\n"
          ]
        }
      ]
    },
    {
      "cell_type": "code",
      "metadata": {
        "colab": {
          "base_uri": "https://localhost:8080/"
        },
        "id": "Y9hEYffWf9Tv",
        "outputId": "f2a99ac7-8eb5-4555-ecd3-385a891942d4"
      },
      "source": [
        "pip install DigiPathAI"
      ],
      "execution_count": 2,
      "outputs": [
        {
          "output_type": "stream",
          "name": "stdout",
          "text": [
            "Collecting DigiPathAI\n",
            "  Downloading DigiPathAI-0.1.5-py3-none-any.whl (2.6 MB)\n",
            "\u001b[K     |████████████████████████████████| 2.6 MB 36.6 MB/s \n",
            "\u001b[?25hCollecting openslide-python\n",
            "  Downloading openslide-python-1.1.2.tar.gz (316 kB)\n",
            "\u001b[K     |████████████████████████████████| 316 kB 55.0 MB/s \n",
            "\u001b[?25hRequirement already satisfied: flask in /usr/local/lib/python3.7/dist-packages (from DigiPathAI) (1.1.4)\n",
            "Requirement already satisfied: itsdangerous<2.0,>=0.24 in /usr/local/lib/python3.7/dist-packages (from flask->DigiPathAI) (1.1.0)\n",
            "Requirement already satisfied: Werkzeug<2.0,>=0.15 in /usr/local/lib/python3.7/dist-packages (from flask->DigiPathAI) (1.0.1)\n",
            "Requirement already satisfied: click<8.0,>=5.1 in /usr/local/lib/python3.7/dist-packages (from flask->DigiPathAI) (7.1.2)\n",
            "Requirement already satisfied: Jinja2<3.0,>=2.10.1 in /usr/local/lib/python3.7/dist-packages (from flask->DigiPathAI) (2.11.3)\n",
            "Requirement already satisfied: MarkupSafe>=0.23 in /usr/local/lib/python3.7/dist-packages (from Jinja2<3.0,>=2.10.1->flask->DigiPathAI) (2.0.1)\n",
            "Requirement already satisfied: Pillow in /usr/local/lib/python3.7/dist-packages (from openslide-python->DigiPathAI) (7.1.2)\n",
            "Building wheels for collected packages: openslide-python\n",
            "  Building wheel for openslide-python (setup.py) ... \u001b[?25l\u001b[?25hdone\n",
            "  Created wheel for openslide-python: filename=openslide_python-1.1.2-cp37-cp37m-linux_x86_64.whl size=27712 sha256=9d9592533a7a998990564ed385c0bedd09b393851f597bb3899a7791cbecc4cb\n",
            "  Stored in directory: /root/.cache/pip/wheels/6f/c3/97/980962653f9305314bfb6d93f80be5e21f13e206af66fc7ad3\n",
            "Successfully built openslide-python\n",
            "Installing collected packages: openslide-python, DigiPathAI\n",
            "Successfully installed DigiPathAI-0.1.5 openslide-python-1.1.2\n"
          ]
        }
      ]
    },
    {
      "cell_type": "code",
      "metadata": {
        "colab": {
          "base_uri": "https://localhost:8080/"
        },
        "id": "MHHU7aRNKKyK",
        "outputId": "84624f54-c9ce-4029-e80f-a64f54b75ad0"
      },
      "source": [
        "%tensorflow_version 1.14"
      ],
      "execution_count": 3,
      "outputs": [
        {
          "output_type": "stream",
          "name": "stdout",
          "text": [
            "`%tensorflow_version` only switches the major version: 1.x or 2.x.\n",
            "You set: `1.14`. This will be interpreted as: `1.x`.\n",
            "\n",
            "\n",
            "TensorFlow 1.x selected.\n"
          ]
        }
      ]
    },
    {
      "cell_type": "code",
      "metadata": {
        "colab": {
          "base_uri": "https://localhost:8080/"
        },
        "id": "6zvFs19Y6Ipj",
        "outputId": "152f0ce6-6f73-44c8-a5b8-fa15722fada5"
      },
      "source": [
        "!pip install wget"
      ],
      "execution_count": 4,
      "outputs": [
        {
          "output_type": "stream",
          "name": "stdout",
          "text": [
            "Collecting wget\n",
            "  Downloading wget-3.2.zip (10 kB)\n",
            "Building wheels for collected packages: wget\n",
            "  Building wheel for wget (setup.py) ... \u001b[?25l\u001b[?25hdone\n",
            "  Created wheel for wget: filename=wget-3.2-py3-none-any.whl size=9672 sha256=af55971f7a033db5ecfb71b0e9f4183e29ff62be6e7156453af591ff80a8f933\n",
            "  Stored in directory: /root/.cache/pip/wheels/a1/b6/7c/0e63e34eb06634181c63adacca38b79ff8f35c37e3c13e3c02\n",
            "Successfully built wget\n",
            "Installing collected packages: wget\n",
            "Successfully installed wget-3.2\n"
          ]
        }
      ]
    },
    {
      "cell_type": "code",
      "metadata": {
        "colab": {
          "base_uri": "https://localhost:8080/"
        },
        "id": "xe-uqCei6OZv",
        "outputId": "cade8505-607b-4732-f876-cd51d6a355a4"
      },
      "source": [
        "!pip install pydensecrf"
      ],
      "execution_count": 5,
      "outputs": [
        {
          "output_type": "stream",
          "name": "stdout",
          "text": [
            "Collecting pydensecrf\n",
            "  Downloading pydensecrf-1.0rc3.tar.gz (1.0 MB)\n",
            "\u001b[?25l\r\u001b[K     |▎                               | 10 kB 19.3 MB/s eta 0:00:01\r\u001b[K     |▋                               | 20 kB 22.2 MB/s eta 0:00:01\r\u001b[K     |█                               | 30 kB 25.9 MB/s eta 0:00:01\r\u001b[K     |█▎                              | 40 kB 29.3 MB/s eta 0:00:01\r\u001b[K     |█▋                              | 51 kB 21.4 MB/s eta 0:00:01\r\u001b[K     |██                              | 61 kB 22.4 MB/s eta 0:00:01\r\u001b[K     |██▏                             | 71 kB 24.0 MB/s eta 0:00:01\r\u001b[K     |██▌                             | 81 kB 23.1 MB/s eta 0:00:01\r\u001b[K     |██▉                             | 92 kB 24.1 MB/s eta 0:00:01\r\u001b[K     |███▏                            | 102 kB 22.5 MB/s eta 0:00:01\r\u001b[K     |███▌                            | 112 kB 22.5 MB/s eta 0:00:01\r\u001b[K     |███▉                            | 122 kB 22.5 MB/s eta 0:00:01\r\u001b[K     |████                            | 133 kB 22.5 MB/s eta 0:00:01\r\u001b[K     |████▍                           | 143 kB 22.5 MB/s eta 0:00:01\r\u001b[K     |████▊                           | 153 kB 22.5 MB/s eta 0:00:01\r\u001b[K     |█████                           | 163 kB 22.5 MB/s eta 0:00:01\r\u001b[K     |█████▍                          | 174 kB 22.5 MB/s eta 0:00:01\r\u001b[K     |█████▊                          | 184 kB 22.5 MB/s eta 0:00:01\r\u001b[K     |██████                          | 194 kB 22.5 MB/s eta 0:00:01\r\u001b[K     |██████▎                         | 204 kB 22.5 MB/s eta 0:00:01\r\u001b[K     |██████▋                         | 215 kB 22.5 MB/s eta 0:00:01\r\u001b[K     |███████                         | 225 kB 22.5 MB/s eta 0:00:01\r\u001b[K     |███████▎                        | 235 kB 22.5 MB/s eta 0:00:01\r\u001b[K     |███████▋                        | 245 kB 22.5 MB/s eta 0:00:01\r\u001b[K     |████████                        | 256 kB 22.5 MB/s eta 0:00:01\r\u001b[K     |████████▏                       | 266 kB 22.5 MB/s eta 0:00:01\r\u001b[K     |████████▌                       | 276 kB 22.5 MB/s eta 0:00:01\r\u001b[K     |████████▉                       | 286 kB 22.5 MB/s eta 0:00:01\r\u001b[K     |█████████▏                      | 296 kB 22.5 MB/s eta 0:00:01\r\u001b[K     |█████████▌                      | 307 kB 22.5 MB/s eta 0:00:01\r\u001b[K     |█████████▉                      | 317 kB 22.5 MB/s eta 0:00:01\r\u001b[K     |██████████▏                     | 327 kB 22.5 MB/s eta 0:00:01\r\u001b[K     |██████████▍                     | 337 kB 22.5 MB/s eta 0:00:01\r\u001b[K     |██████████▊                     | 348 kB 22.5 MB/s eta 0:00:01\r\u001b[K     |███████████                     | 358 kB 22.5 MB/s eta 0:00:01\r\u001b[K     |███████████▍                    | 368 kB 22.5 MB/s eta 0:00:01\r\u001b[K     |███████████▊                    | 378 kB 22.5 MB/s eta 0:00:01\r\u001b[K     |████████████                    | 389 kB 22.5 MB/s eta 0:00:01\r\u001b[K     |████████████▎                   | 399 kB 22.5 MB/s eta 0:00:01\r\u001b[K     |████████████▋                   | 409 kB 22.5 MB/s eta 0:00:01\r\u001b[K     |█████████████                   | 419 kB 22.5 MB/s eta 0:00:01\r\u001b[K     |█████████████▎                  | 430 kB 22.5 MB/s eta 0:00:01\r\u001b[K     |█████████████▋                  | 440 kB 22.5 MB/s eta 0:00:01\r\u001b[K     |██████████████                  | 450 kB 22.5 MB/s eta 0:00:01\r\u001b[K     |██████████████▎                 | 460 kB 22.5 MB/s eta 0:00:01\r\u001b[K     |██████████████▌                 | 471 kB 22.5 MB/s eta 0:00:01\r\u001b[K     |██████████████▉                 | 481 kB 22.5 MB/s eta 0:00:01\r\u001b[K     |███████████████▏                | 491 kB 22.5 MB/s eta 0:00:01\r\u001b[K     |███████████████▌                | 501 kB 22.5 MB/s eta 0:00:01\r\u001b[K     |███████████████▉                | 512 kB 22.5 MB/s eta 0:00:01\r\u001b[K     |████████████████▏               | 522 kB 22.5 MB/s eta 0:00:01\r\u001b[K     |████████████████▍               | 532 kB 22.5 MB/s eta 0:00:01\r\u001b[K     |████████████████▊               | 542 kB 22.5 MB/s eta 0:00:01\r\u001b[K     |█████████████████               | 552 kB 22.5 MB/s eta 0:00:01\r\u001b[K     |█████████████████▍              | 563 kB 22.5 MB/s eta 0:00:01\r\u001b[K     |█████████████████▊              | 573 kB 22.5 MB/s eta 0:00:01\r\u001b[K     |██████████████████              | 583 kB 22.5 MB/s eta 0:00:01\r\u001b[K     |██████████████████▍             | 593 kB 22.5 MB/s eta 0:00:01\r\u001b[K     |██████████████████▋             | 604 kB 22.5 MB/s eta 0:00:01\r\u001b[K     |███████████████████             | 614 kB 22.5 MB/s eta 0:00:01\r\u001b[K     |███████████████████▎            | 624 kB 22.5 MB/s eta 0:00:01\r\u001b[K     |███████████████████▋            | 634 kB 22.5 MB/s eta 0:00:01\r\u001b[K     |████████████████████            | 645 kB 22.5 MB/s eta 0:00:01\r\u001b[K     |████████████████████▎           | 655 kB 22.5 MB/s eta 0:00:01\r\u001b[K     |████████████████████▌           | 665 kB 22.5 MB/s eta 0:00:01\r\u001b[K     |████████████████████▉           | 675 kB 22.5 MB/s eta 0:00:01\r\u001b[K     |█████████████████████▏          | 686 kB 22.5 MB/s eta 0:00:01\r\u001b[K     |█████████████████████▌          | 696 kB 22.5 MB/s eta 0:00:01\r\u001b[K     |█████████████████████▉          | 706 kB 22.5 MB/s eta 0:00:01\r\u001b[K     |██████████████████████▏         | 716 kB 22.5 MB/s eta 0:00:01\r\u001b[K     |██████████████████████▌         | 727 kB 22.5 MB/s eta 0:00:01\r\u001b[K     |██████████████████████▊         | 737 kB 22.5 MB/s eta 0:00:01\r\u001b[K     |███████████████████████         | 747 kB 22.5 MB/s eta 0:00:01\r\u001b[K     |███████████████████████▍        | 757 kB 22.5 MB/s eta 0:00:01\r\u001b[K     |███████████████████████▊        | 768 kB 22.5 MB/s eta 0:00:01\r\u001b[K     |████████████████████████        | 778 kB 22.5 MB/s eta 0:00:01\r\u001b[K     |████████████████████████▍       | 788 kB 22.5 MB/s eta 0:00:01\r\u001b[K     |████████████████████████▋       | 798 kB 22.5 MB/s eta 0:00:01\r\u001b[K     |█████████████████████████       | 808 kB 22.5 MB/s eta 0:00:01\r\u001b[K     |█████████████████████████▎      | 819 kB 22.5 MB/s eta 0:00:01\r\u001b[K     |█████████████████████████▋      | 829 kB 22.5 MB/s eta 0:00:01\r\u001b[K     |██████████████████████████      | 839 kB 22.5 MB/s eta 0:00:01\r\u001b[K     |██████████████████████████▎     | 849 kB 22.5 MB/s eta 0:00:01\r\u001b[K     |██████████████████████████▌     | 860 kB 22.5 MB/s eta 0:00:01\r\u001b[K     |██████████████████████████▉     | 870 kB 22.5 MB/s eta 0:00:01\r\u001b[K     |███████████████████████████▏    | 880 kB 22.5 MB/s eta 0:00:01\r\u001b[K     |███████████████████████████▌    | 890 kB 22.5 MB/s eta 0:00:01\r\u001b[K     |███████████████████████████▉    | 901 kB 22.5 MB/s eta 0:00:01\r\u001b[K     |████████████████████████████▏   | 911 kB 22.5 MB/s eta 0:00:01\r\u001b[K     |████████████████████████████▌   | 921 kB 22.5 MB/s eta 0:00:01\r\u001b[K     |████████████████████████████▊   | 931 kB 22.5 MB/s eta 0:00:01\r\u001b[K     |█████████████████████████████   | 942 kB 22.5 MB/s eta 0:00:01\r\u001b[K     |█████████████████████████████▍  | 952 kB 22.5 MB/s eta 0:00:01\r\u001b[K     |█████████████████████████████▊  | 962 kB 22.5 MB/s eta 0:00:01\r\u001b[K     |██████████████████████████████  | 972 kB 22.5 MB/s eta 0:00:01\r\u001b[K     |██████████████████████████████▍ | 983 kB 22.5 MB/s eta 0:00:01\r\u001b[K     |██████████████████████████████▋ | 993 kB 22.5 MB/s eta 0:00:01\r\u001b[K     |███████████████████████████████ | 1.0 MB 22.5 MB/s eta 0:00:01\r\u001b[K     |███████████████████████████████▎| 1.0 MB 22.5 MB/s eta 0:00:01\r\u001b[K     |███████████████████████████████▋| 1.0 MB 22.5 MB/s eta 0:00:01\r\u001b[K     |████████████████████████████████| 1.0 MB 22.5 MB/s eta 0:00:01\r\u001b[K     |████████████████████████████████| 1.0 MB 22.5 MB/s \n",
            "\u001b[?25hBuilding wheels for collected packages: pydensecrf\n",
            "  Building wheel for pydensecrf (setup.py) ... \u001b[?25lerror\n",
            "\u001b[31m  ERROR: Failed building wheel for pydensecrf\u001b[0m\n",
            "\u001b[?25h  Running setup.py clean for pydensecrf\n",
            "Failed to build pydensecrf\n",
            "Installing collected packages: pydensecrf\n",
            "    Running setup.py install for pydensecrf ... \u001b[?25l\u001b[?25herror\n",
            "\u001b[31mERROR: Command errored out with exit status 1: /usr/bin/python3 -u -c 'import io, os, sys, setuptools, tokenize; sys.argv[0] = '\"'\"'/tmp/pip-install-eslcwnn5/pydensecrf_6182c44270d04807a0b185f610d6d956/setup.py'\"'\"'; __file__='\"'\"'/tmp/pip-install-eslcwnn5/pydensecrf_6182c44270d04807a0b185f610d6d956/setup.py'\"'\"';f = getattr(tokenize, '\"'\"'open'\"'\"', open)(__file__) if os.path.exists(__file__) else io.StringIO('\"'\"'from setuptools import setup; setup()'\"'\"');code = f.read().replace('\"'\"'\\r\\n'\"'\"', '\"'\"'\\n'\"'\"');f.close();exec(compile(code, __file__, '\"'\"'exec'\"'\"'))' install --record /tmp/pip-record-mi0a64kr/install-record.txt --single-version-externally-managed --compile --install-headers /usr/local/include/python3.7/pydensecrf Check the logs for full command output.\u001b[0m\n"
          ]
        }
      ]
    },
    {
      "cell_type": "code",
      "metadata": {
        "colab": {
          "base_uri": "https://localhost:8080/"
        },
        "id": "gjOBx8hG6hFg",
        "outputId": "0459f841-00bf-41b6-da6d-8a230ed8acc3"
      },
      "source": [
        "!pip install conda"
      ],
      "execution_count": 6,
      "outputs": [
        {
          "output_type": "stream",
          "name": "stdout",
          "text": [
            "Collecting conda\n",
            "  Downloading conda-4.3.16.tar.gz (299 kB)\n",
            "\u001b[K     |████████████████████████████████| 299 kB 24.5 MB/s \n",
            "\u001b[?25hCollecting pycosat>=0.6.1\n",
            "  Downloading pycosat-0.6.3.zip (66 kB)\n",
            "\u001b[K     |████████████████████████████████| 66 kB 4.2 MB/s \n",
            "\u001b[?25hRequirement already satisfied: requests>=2.12.4 in /usr/local/lib/python3.7/dist-packages (from conda) (2.23.0)\n",
            "Collecting ruamel.yaml>=0.11.14\n",
            "  Downloading ruamel.yaml-0.17.16-py3-none-any.whl (109 kB)\n",
            "\u001b[K     |████████████████████████████████| 109 kB 56.0 MB/s \n",
            "\u001b[?25hRequirement already satisfied: urllib3!=1.25.0,!=1.25.1,<1.26,>=1.21.1 in /usr/local/lib/python3.7/dist-packages (from requests>=2.12.4->conda) (1.24.3)\n",
            "Requirement already satisfied: certifi>=2017.4.17 in /usr/local/lib/python3.7/dist-packages (from requests>=2.12.4->conda) (2021.5.30)\n",
            "Requirement already satisfied: idna<3,>=2.5 in /usr/local/lib/python3.7/dist-packages (from requests>=2.12.4->conda) (2.10)\n",
            "Requirement already satisfied: chardet<4,>=3.0.2 in /usr/local/lib/python3.7/dist-packages (from requests>=2.12.4->conda) (3.0.4)\n",
            "Collecting ruamel.yaml.clib>=0.1.2\n",
            "  Downloading ruamel.yaml.clib-0.2.6-cp37-cp37m-manylinux1_x86_64.whl (546 kB)\n",
            "\u001b[K     |████████████████████████████████| 546 kB 46.7 MB/s \n",
            "\u001b[?25hBuilding wheels for collected packages: conda, pycosat\n",
            "  Building wheel for conda (setup.py) ... \u001b[?25l\u001b[?25hdone\n",
            "  Created wheel for conda: filename=conda-4.3.16-py3-none-any.whl size=336960 sha256=9c3128f28d860059ebe02d13cc4d3fc1a2d7ea93c9e2edc594a9bae59f0afbdb\n",
            "  Stored in directory: /root/.cache/pip/wheels/66/ec/2c/cce33d7a071720882d948fd3364d3ff5562bac9e5638768d41\n",
            "  Building wheel for pycosat (setup.py) ... \u001b[?25l\u001b[?25hdone\n",
            "  Created wheel for pycosat: filename=pycosat-0.6.3-cp37-cp37m-linux_x86_64.whl size=143859 sha256=4eaa9177016005730d6911ae6eca4b0ca06decbb3d15a900e4937aeaf20d6f64\n",
            "  Stored in directory: /root/.cache/pip/wheels/c8/29/0e/a226b7c5a4f24e246f25201c0b1fbf6fb8f19f9cce89b02c36\n",
            "Successfully built conda pycosat\n",
            "Installing collected packages: ruamel.yaml.clib, ruamel.yaml, pycosat, conda\n",
            "Successfully installed conda-4.3.16 pycosat-0.6.3 ruamel.yaml-0.17.16 ruamel.yaml.clib-0.2.6\n"
          ]
        }
      ]
    },
    {
      "cell_type": "code",
      "metadata": {
        "colab": {
          "base_uri": "https://localhost:8080/"
        },
        "id": "qjODPExn60IU",
        "outputId": "435f8544-b1c1-4918-9601-b02f33c74d7d"
      },
      "source": [
        "!pip install git+https://github.com/lucasb-eyer/pydensecrf.git"
      ],
      "execution_count": 7,
      "outputs": [
        {
          "output_type": "stream",
          "name": "stdout",
          "text": [
            "Collecting git+https://github.com/lucasb-eyer/pydensecrf.git\n",
            "  Cloning https://github.com/lucasb-eyer/pydensecrf.git to /tmp/pip-req-build-5dc1wjsp\n",
            "  Running command git clone -q https://github.com/lucasb-eyer/pydensecrf.git /tmp/pip-req-build-5dc1wjsp\n",
            "  Installing build dependencies ... \u001b[?25l\u001b[?25hdone\n",
            "  Getting requirements to build wheel ... \u001b[?25l\u001b[?25hdone\n",
            "    Preparing wheel metadata ... \u001b[?25l\u001b[?25hdone\n",
            "Building wheels for collected packages: pydensecrf\n",
            "  Building wheel for pydensecrf (PEP 517) ... \u001b[?25l\u001b[?25hdone\n",
            "  Created wheel for pydensecrf: filename=pydensecrf-1.0rc2-cp37-cp37m-linux_x86_64.whl size=2773934 sha256=095c407f1c43080df91c74e60b1f320234de72e455a5314fb17b2a6ab9d65f1c\n",
            "  Stored in directory: /tmp/pip-ephem-wheel-cache-4o9l4ctk/wheels/c1/7e/80/99adc0b2f215180486e24dd9c700028343ba5f566514a0ef05\n",
            "Successfully built pydensecrf\n",
            "Installing collected packages: pydensecrf\n",
            "Successfully installed pydensecrf-1.0rc2\n"
          ]
        }
      ]
    },
    {
      "cell_type": "code",
      "metadata": {
        "colab": {
          "base_uri": "https://localhost:8080/"
        },
        "id": "KazxmQJw5h-1",
        "outputId": "6a510f1d-93f7-4443-897b-b76c7d0cb0e9"
      },
      "source": [
        "!sudo apt-get install openslide-tools\n",
        "!sudo get install python-openslide\n",
        "!pip install openslide-python"
      ],
      "execution_count": 8,
      "outputs": [
        {
          "output_type": "stream",
          "name": "stdout",
          "text": [
            "Reading package lists... Done\n",
            "Building dependency tree       \n",
            "Reading state information... Done\n",
            "The following additional packages will be installed:\n",
            "  libopenslide0\n",
            "Suggested packages:\n",
            "  libtiff-tools\n",
            "The following NEW packages will be installed:\n",
            "  libopenslide0 openslide-tools\n",
            "0 upgraded, 2 newly installed, 0 to remove and 37 not upgraded.\n",
            "Need to get 92.5 kB of archives.\n",
            "After this operation, 268 kB of additional disk space will be used.\n",
            "Get:1 http://archive.ubuntu.com/ubuntu bionic/universe amd64 libopenslide0 amd64 3.4.1+dfsg-2 [79.8 kB]\n",
            "Get:2 http://archive.ubuntu.com/ubuntu bionic/universe amd64 openslide-tools amd64 3.4.1+dfsg-2 [12.7 kB]\n",
            "Fetched 92.5 kB in 0s (212 kB/s)\n",
            "debconf: unable to initialize frontend: Dialog\n",
            "debconf: (No usable dialog-like program is installed, so the dialog based frontend cannot be used. at /usr/share/perl5/Debconf/FrontEnd/Dialog.pm line 76, <> line 2.)\n",
            "debconf: falling back to frontend: Readline\n",
            "debconf: unable to initialize frontend: Readline\n",
            "debconf: (This frontend requires a controlling tty.)\n",
            "debconf: falling back to frontend: Teletype\n",
            "dpkg-preconfigure: unable to re-open stdin: \n",
            "Selecting previously unselected package libopenslide0.\n",
            "(Reading database ... 155047 files and directories currently installed.)\n",
            "Preparing to unpack .../libopenslide0_3.4.1+dfsg-2_amd64.deb ...\n",
            "Unpacking libopenslide0 (3.4.1+dfsg-2) ...\n",
            "Selecting previously unselected package openslide-tools.\n",
            "Preparing to unpack .../openslide-tools_3.4.1+dfsg-2_amd64.deb ...\n",
            "Unpacking openslide-tools (3.4.1+dfsg-2) ...\n",
            "Setting up libopenslide0 (3.4.1+dfsg-2) ...\n",
            "Setting up openslide-tools (3.4.1+dfsg-2) ...\n",
            "Processing triggers for libc-bin (2.27-3ubuntu1.3) ...\n",
            "/sbin/ldconfig.real: /usr/local/lib/python3.7/dist-packages/ideep4py/lib/libmkldnn.so.0 is not a symbolic link\n",
            "\n",
            "Processing triggers for man-db (2.8.3-2ubuntu0.1) ...\n",
            "sudo: get: command not found\n",
            "Requirement already satisfied: openslide-python in /usr/local/lib/python3.7/dist-packages (1.1.2)\n",
            "Requirement already satisfied: Pillow in /usr/local/lib/python3.7/dist-packages (from openslide-python) (7.1.2)\n"
          ]
        }
      ]
    },
    {
      "cell_type": "code",
      "metadata": {
        "id": "Ck6RyzZY5A1v",
        "colab": {
          "base_uri": "https://localhost:8080/"
        },
        "outputId": "6ac0e07e-9923-4e29-f8ac-c483863dd2e8"
      },
      "source": [
        "from DigiPathAI.Segmentation import getSegmentation"
      ],
      "execution_count": 9,
      "outputs": [
        {
          "output_type": "stream",
          "name": "stdout",
          "text": [
            "WARNING:tensorflow:From /usr/local/lib/python3.7/dist-packages/DigiPathAI/Segmentation.py:59: The name tf.set_random_seed is deprecated. Please use tf.compat.v1.set_random_seed instead.\n",
            "\n"
          ]
        }
      ]
    },
    {
      "cell_type": "code",
      "metadata": {
        "id": "CtYHNIel9exi",
        "colab": {
          "base_uri": "https://localhost:8080/"
        },
        "outputId": "99b79914-840b-44df-dfe8-2dbfb55121c3"
      },
      "source": [
        "! pip install -q kaggle\n",
        "! mkdir ~/.kaggle\n",
        "! cp kaggle.json ~/.kaggle/\n",
        "! chmod 600 ~/.kaggle/kaggle.json"
      ],
      "execution_count": 10,
      "outputs": [
        {
          "output_type": "stream",
          "name": "stdout",
          "text": [
            "cp: cannot stat 'kaggle.json': No such file or directory\n",
            "chmod: cannot access '/root/.kaggle/kaggle.json': No such file or directory\n"
          ]
        }
      ]
    },
    {
      "cell_type": "code",
      "metadata": {
        "colab": {
          "base_uri": "https://localhost:8080/"
        },
        "id": "s1RSiKd0-Uay",
        "outputId": "901dfcbd-6b01-4616-b5a0-29a47795054c"
      },
      "source": [
        "!kaggle competitions download -c histopathologic-cancer-detection"
      ],
      "execution_count": 11,
      "outputs": [
        {
          "output_type": "stream",
          "name": "stdout",
          "text": [
            "Traceback (most recent call last):\n",
            "  File \"/usr/local/bin/kaggle\", line 5, in <module>\n",
            "    from kaggle.cli import main\n",
            "  File \"/usr/local/lib/python2.7/dist-packages/kaggle/__init__.py\", line 23, in <module>\n",
            "    api.authenticate()\n",
            "  File \"/usr/local/lib/python2.7/dist-packages/kaggle/api/kaggle_api_extended.py\", line 146, in authenticate\n",
            "    self.config_file, self.config_dir))\n",
            "IOError: Could not find kaggle.json. Make sure it's located in /root/.kaggle. Or use the environment method.\n"
          ]
        }
      ]
    },
    {
      "cell_type": "code",
      "metadata": {
        "colab": {
          "base_uri": "https://localhost:8080/"
        },
        "id": "3Vh0WZXQPR7r",
        "outputId": "6b6e29d3-e528-493a-d1c9-c28a5d204acb"
      },
      "source": [
        "!apt install imagemagick"
      ],
      "execution_count": 12,
      "outputs": [
        {
          "output_type": "stream",
          "name": "stdout",
          "text": [
            "Reading package lists... Done\n",
            "Building dependency tree       \n",
            "Reading state information... Done\n",
            "The following additional packages will be installed:\n",
            "  fonts-droid-fallback fonts-noto-mono ghostscript gsfonts\n",
            "  imagemagick-6-common imagemagick-6.q16 libcupsfilters1 libcupsimage2\n",
            "  libdjvulibre-text libdjvulibre21 libgs9 libgs9-common libijs-0.35\n",
            "  libjbig2dec0 liblqr-1-0 libmagickcore-6.q16-3 libmagickcore-6.q16-3-extra\n",
            "  libmagickwand-6.q16-3 libnetpbm10 libwmf0.2-7 netpbm poppler-data\n",
            "Suggested packages:\n",
            "  fonts-noto ghostscript-x imagemagick-doc autotrace cups-bsd | lpr | lprng\n",
            "  enscript gimp gnuplot grads hp2xx html2ps libwmf-bin mplayer povray radiance\n",
            "  sane-utils texlive-base-bin transfig ufraw-batch inkscape libjxr-tools\n",
            "  libwmf0.2-7-gtk poppler-utils fonts-japanese-mincho | fonts-ipafont-mincho\n",
            "  fonts-japanese-gothic | fonts-ipafont-gothic fonts-arphic-ukai\n",
            "  fonts-arphic-uming fonts-nanum\n",
            "The following NEW packages will be installed:\n",
            "  fonts-droid-fallback fonts-noto-mono ghostscript gsfonts imagemagick\n",
            "  imagemagick-6-common imagemagick-6.q16 libcupsfilters1 libcupsimage2\n",
            "  libdjvulibre-text libdjvulibre21 libgs9 libgs9-common libijs-0.35\n",
            "  libjbig2dec0 liblqr-1-0 libmagickcore-6.q16-3 libmagickcore-6.q16-3-extra\n",
            "  libmagickwand-6.q16-3 libnetpbm10 libwmf0.2-7 netpbm poppler-data\n",
            "0 upgraded, 23 newly installed, 0 to remove and 37 not upgraded.\n",
            "Need to get 18.4 MB of archives.\n",
            "After this operation, 66.3 MB of additional disk space will be used.\n",
            "Get:1 http://archive.ubuntu.com/ubuntu bionic/main amd64 fonts-droid-fallback all 1:6.0.1r16-1.1 [1,805 kB]\n",
            "Get:2 http://archive.ubuntu.com/ubuntu bionic/main amd64 liblqr-1-0 amd64 0.4.2-2.1 [27.7 kB]\n",
            "Get:3 http://archive.ubuntu.com/ubuntu bionic-updates/main amd64 imagemagick-6-common all 8:6.9.7.4+dfsg-16ubuntu6.11 [60.2 kB]\n",
            "Get:4 http://archive.ubuntu.com/ubuntu bionic-updates/main amd64 libmagickcore-6.q16-3 amd64 8:6.9.7.4+dfsg-16ubuntu6.11 [1,619 kB]\n",
            "Get:5 http://archive.ubuntu.com/ubuntu bionic-updates/main amd64 libmagickwand-6.q16-3 amd64 8:6.9.7.4+dfsg-16ubuntu6.11 [294 kB]\n",
            "Get:6 http://archive.ubuntu.com/ubuntu bionic/main amd64 poppler-data all 0.4.8-2 [1,479 kB]\n",
            "Get:7 http://archive.ubuntu.com/ubuntu bionic/main amd64 fonts-noto-mono all 20171026-2 [75.5 kB]\n",
            "Get:8 http://archive.ubuntu.com/ubuntu bionic-updates/main amd64 libcupsimage2 amd64 2.2.7-1ubuntu2.8 [18.6 kB]\n",
            "Get:9 http://archive.ubuntu.com/ubuntu bionic/main amd64 libijs-0.35 amd64 0.35-13 [15.5 kB]\n",
            "Get:10 http://archive.ubuntu.com/ubuntu bionic/main amd64 libjbig2dec0 amd64 0.13-6 [55.9 kB]\n",
            "Get:11 http://archive.ubuntu.com/ubuntu bionic-updates/main amd64 libgs9-common all 9.26~dfsg+0-0ubuntu0.18.04.14 [5,092 kB]\n",
            "Get:12 http://archive.ubuntu.com/ubuntu bionic-updates/main amd64 libgs9 amd64 9.26~dfsg+0-0ubuntu0.18.04.14 [2,265 kB]\n",
            "Get:13 http://archive.ubuntu.com/ubuntu bionic-updates/main amd64 ghostscript amd64 9.26~dfsg+0-0ubuntu0.18.04.14 [51.3 kB]\n",
            "Get:14 http://archive.ubuntu.com/ubuntu bionic/main amd64 gsfonts all 1:8.11+urwcyr1.0.7~pre44-4.4 [3,120 kB]\n",
            "Get:15 http://archive.ubuntu.com/ubuntu bionic-updates/main amd64 imagemagick-6.q16 amd64 8:6.9.7.4+dfsg-16ubuntu6.11 [423 kB]\n",
            "Get:16 http://archive.ubuntu.com/ubuntu bionic-updates/main amd64 imagemagick amd64 8:6.9.7.4+dfsg-16ubuntu6.11 [14.2 kB]\n",
            "Get:17 http://archive.ubuntu.com/ubuntu bionic-updates/main amd64 libcupsfilters1 amd64 1.20.2-0ubuntu3.1 [108 kB]\n",
            "Get:18 http://archive.ubuntu.com/ubuntu bionic-updates/main amd64 libdjvulibre-text all 3.5.27.1-8ubuntu0.4 [49.4 kB]\n",
            "Get:19 http://archive.ubuntu.com/ubuntu bionic-updates/main amd64 libdjvulibre21 amd64 3.5.27.1-8ubuntu0.4 [561 kB]\n",
            "Get:20 http://archive.ubuntu.com/ubuntu bionic/main amd64 libwmf0.2-7 amd64 0.2.8.4-12 [150 kB]\n",
            "Get:21 http://archive.ubuntu.com/ubuntu bionic-updates/main amd64 libmagickcore-6.q16-3-extra amd64 8:6.9.7.4+dfsg-16ubuntu6.11 [62.4 kB]\n",
            "Get:22 http://archive.ubuntu.com/ubuntu bionic/main amd64 libnetpbm10 amd64 2:10.0-15.3build1 [58.0 kB]\n",
            "Get:23 http://archive.ubuntu.com/ubuntu bionic/main amd64 netpbm amd64 2:10.0-15.3build1 [1,017 kB]\n",
            "Fetched 18.4 MB in 1s (14.1 MB/s)\n",
            "Selecting previously unselected package fonts-droid-fallback.\n",
            "(Reading database ... 155062 files and directories currently installed.)\n",
            "Preparing to unpack .../00-fonts-droid-fallback_1%3a6.0.1r16-1.1_all.deb ...\n",
            "Unpacking fonts-droid-fallback (1:6.0.1r16-1.1) ...\n",
            "Selecting previously unselected package liblqr-1-0:amd64.\n",
            "Preparing to unpack .../01-liblqr-1-0_0.4.2-2.1_amd64.deb ...\n",
            "Unpacking liblqr-1-0:amd64 (0.4.2-2.1) ...\n",
            "Selecting previously unselected package imagemagick-6-common.\n",
            "Preparing to unpack .../02-imagemagick-6-common_8%3a6.9.7.4+dfsg-16ubuntu6.11_all.deb ...\n",
            "Unpacking imagemagick-6-common (8:6.9.7.4+dfsg-16ubuntu6.11) ...\n",
            "Selecting previously unselected package libmagickcore-6.q16-3:amd64.\n",
            "Preparing to unpack .../03-libmagickcore-6.q16-3_8%3a6.9.7.4+dfsg-16ubuntu6.11_amd64.deb ...\n",
            "Unpacking libmagickcore-6.q16-3:amd64 (8:6.9.7.4+dfsg-16ubuntu6.11) ...\n",
            "Selecting previously unselected package libmagickwand-6.q16-3:amd64.\n",
            "Preparing to unpack .../04-libmagickwand-6.q16-3_8%3a6.9.7.4+dfsg-16ubuntu6.11_amd64.deb ...\n",
            "Unpacking libmagickwand-6.q16-3:amd64 (8:6.9.7.4+dfsg-16ubuntu6.11) ...\n",
            "Selecting previously unselected package poppler-data.\n",
            "Preparing to unpack .../05-poppler-data_0.4.8-2_all.deb ...\n",
            "Unpacking poppler-data (0.4.8-2) ...\n",
            "Selecting previously unselected package fonts-noto-mono.\n",
            "Preparing to unpack .../06-fonts-noto-mono_20171026-2_all.deb ...\n",
            "Unpacking fonts-noto-mono (20171026-2) ...\n",
            "Selecting previously unselected package libcupsimage2:amd64.\n",
            "Preparing to unpack .../07-libcupsimage2_2.2.7-1ubuntu2.8_amd64.deb ...\n",
            "Unpacking libcupsimage2:amd64 (2.2.7-1ubuntu2.8) ...\n",
            "Selecting previously unselected package libijs-0.35:amd64.\n",
            "Preparing to unpack .../08-libijs-0.35_0.35-13_amd64.deb ...\n",
            "Unpacking libijs-0.35:amd64 (0.35-13) ...\n",
            "Selecting previously unselected package libjbig2dec0:amd64.\n",
            "Preparing to unpack .../09-libjbig2dec0_0.13-6_amd64.deb ...\n",
            "Unpacking libjbig2dec0:amd64 (0.13-6) ...\n",
            "Selecting previously unselected package libgs9-common.\n",
            "Preparing to unpack .../10-libgs9-common_9.26~dfsg+0-0ubuntu0.18.04.14_all.deb ...\n",
            "Unpacking libgs9-common (9.26~dfsg+0-0ubuntu0.18.04.14) ...\n",
            "Selecting previously unselected package libgs9:amd64.\n",
            "Preparing to unpack .../11-libgs9_9.26~dfsg+0-0ubuntu0.18.04.14_amd64.deb ...\n",
            "Unpacking libgs9:amd64 (9.26~dfsg+0-0ubuntu0.18.04.14) ...\n",
            "Selecting previously unselected package ghostscript.\n",
            "Preparing to unpack .../12-ghostscript_9.26~dfsg+0-0ubuntu0.18.04.14_amd64.deb ...\n",
            "Unpacking ghostscript (9.26~dfsg+0-0ubuntu0.18.04.14) ...\n",
            "Selecting previously unselected package gsfonts.\n",
            "Preparing to unpack .../13-gsfonts_1%3a8.11+urwcyr1.0.7~pre44-4.4_all.deb ...\n",
            "Unpacking gsfonts (1:8.11+urwcyr1.0.7~pre44-4.4) ...\n",
            "Selecting previously unselected package imagemagick-6.q16.\n",
            "Preparing to unpack .../14-imagemagick-6.q16_8%3a6.9.7.4+dfsg-16ubuntu6.11_amd64.deb ...\n",
            "Unpacking imagemagick-6.q16 (8:6.9.7.4+dfsg-16ubuntu6.11) ...\n",
            "Selecting previously unselected package imagemagick.\n",
            "Preparing to unpack .../15-imagemagick_8%3a6.9.7.4+dfsg-16ubuntu6.11_amd64.deb ...\n",
            "Unpacking imagemagick (8:6.9.7.4+dfsg-16ubuntu6.11) ...\n",
            "Selecting previously unselected package libcupsfilters1:amd64.\n",
            "Preparing to unpack .../16-libcupsfilters1_1.20.2-0ubuntu3.1_amd64.deb ...\n",
            "Unpacking libcupsfilters1:amd64 (1.20.2-0ubuntu3.1) ...\n",
            "Selecting previously unselected package libdjvulibre-text.\n",
            "Preparing to unpack .../17-libdjvulibre-text_3.5.27.1-8ubuntu0.4_all.deb ...\n",
            "Unpacking libdjvulibre-text (3.5.27.1-8ubuntu0.4) ...\n",
            "Selecting previously unselected package libdjvulibre21:amd64.\n",
            "Preparing to unpack .../18-libdjvulibre21_3.5.27.1-8ubuntu0.4_amd64.deb ...\n",
            "Unpacking libdjvulibre21:amd64 (3.5.27.1-8ubuntu0.4) ...\n",
            "Selecting previously unselected package libwmf0.2-7:amd64.\n",
            "Preparing to unpack .../19-libwmf0.2-7_0.2.8.4-12_amd64.deb ...\n",
            "Unpacking libwmf0.2-7:amd64 (0.2.8.4-12) ...\n",
            "Selecting previously unselected package libmagickcore-6.q16-3-extra:amd64.\n",
            "Preparing to unpack .../20-libmagickcore-6.q16-3-extra_8%3a6.9.7.4+dfsg-16ubuntu6.11_amd64.deb ...\n",
            "Unpacking libmagickcore-6.q16-3-extra:amd64 (8:6.9.7.4+dfsg-16ubuntu6.11) ...\n",
            "Selecting previously unselected package libnetpbm10.\n",
            "Preparing to unpack .../21-libnetpbm10_2%3a10.0-15.3build1_amd64.deb ...\n",
            "Unpacking libnetpbm10 (2:10.0-15.3build1) ...\n",
            "Selecting previously unselected package netpbm.\n",
            "Preparing to unpack .../22-netpbm_2%3a10.0-15.3build1_amd64.deb ...\n",
            "Unpacking netpbm (2:10.0-15.3build1) ...\n",
            "Setting up libgs9-common (9.26~dfsg+0-0ubuntu0.18.04.14) ...\n",
            "Setting up imagemagick-6-common (8:6.9.7.4+dfsg-16ubuntu6.11) ...\n",
            "Setting up fonts-droid-fallback (1:6.0.1r16-1.1) ...\n",
            "Setting up gsfonts (1:8.11+urwcyr1.0.7~pre44-4.4) ...\n",
            "Setting up poppler-data (0.4.8-2) ...\n",
            "Setting up libdjvulibre-text (3.5.27.1-8ubuntu0.4) ...\n",
            "Setting up libnetpbm10 (2:10.0-15.3build1) ...\n",
            "Setting up fonts-noto-mono (20171026-2) ...\n",
            "Setting up libcupsfilters1:amd64 (1.20.2-0ubuntu3.1) ...\n",
            "Setting up libcupsimage2:amd64 (2.2.7-1ubuntu2.8) ...\n",
            "Setting up liblqr-1-0:amd64 (0.4.2-2.1) ...\n",
            "Setting up libjbig2dec0:amd64 (0.13-6) ...\n",
            "Setting up libijs-0.35:amd64 (0.35-13) ...\n",
            "Setting up netpbm (2:10.0-15.3build1) ...\n",
            "Setting up libgs9:amd64 (9.26~dfsg+0-0ubuntu0.18.04.14) ...\n",
            "Setting up libwmf0.2-7:amd64 (0.2.8.4-12) ...\n",
            "Setting up libmagickcore-6.q16-3:amd64 (8:6.9.7.4+dfsg-16ubuntu6.11) ...\n",
            "Setting up libdjvulibre21:amd64 (3.5.27.1-8ubuntu0.4) ...\n",
            "Setting up ghostscript (9.26~dfsg+0-0ubuntu0.18.04.14) ...\n",
            "Setting up libmagickwand-6.q16-3:amd64 (8:6.9.7.4+dfsg-16ubuntu6.11) ...\n",
            "Setting up imagemagick-6.q16 (8:6.9.7.4+dfsg-16ubuntu6.11) ...\n",
            "update-alternatives: using /usr/bin/compare-im6.q16 to provide /usr/bin/compare (compare) in auto mode\n",
            "update-alternatives: using /usr/bin/compare-im6.q16 to provide /usr/bin/compare-im6 (compare-im6) in auto mode\n",
            "update-alternatives: using /usr/bin/animate-im6.q16 to provide /usr/bin/animate (animate) in auto mode\n",
            "update-alternatives: using /usr/bin/animate-im6.q16 to provide /usr/bin/animate-im6 (animate-im6) in auto mode\n",
            "update-alternatives: using /usr/bin/convert-im6.q16 to provide /usr/bin/convert (convert) in auto mode\n",
            "update-alternatives: using /usr/bin/convert-im6.q16 to provide /usr/bin/convert-im6 (convert-im6) in auto mode\n",
            "update-alternatives: using /usr/bin/composite-im6.q16 to provide /usr/bin/composite (composite) in auto mode\n",
            "update-alternatives: using /usr/bin/composite-im6.q16 to provide /usr/bin/composite-im6 (composite-im6) in auto mode\n",
            "update-alternatives: using /usr/bin/conjure-im6.q16 to provide /usr/bin/conjure (conjure) in auto mode\n",
            "update-alternatives: using /usr/bin/conjure-im6.q16 to provide /usr/bin/conjure-im6 (conjure-im6) in auto mode\n",
            "update-alternatives: using /usr/bin/import-im6.q16 to provide /usr/bin/import (import) in auto mode\n",
            "update-alternatives: using /usr/bin/import-im6.q16 to provide /usr/bin/import-im6 (import-im6) in auto mode\n",
            "update-alternatives: using /usr/bin/identify-im6.q16 to provide /usr/bin/identify (identify) in auto mode\n",
            "update-alternatives: using /usr/bin/identify-im6.q16 to provide /usr/bin/identify-im6 (identify-im6) in auto mode\n",
            "update-alternatives: using /usr/bin/stream-im6.q16 to provide /usr/bin/stream (stream) in auto mode\n",
            "update-alternatives: using /usr/bin/stream-im6.q16 to provide /usr/bin/stream-im6 (stream-im6) in auto mode\n",
            "update-alternatives: using /usr/bin/display-im6.q16 to provide /usr/bin/display (display) in auto mode\n",
            "update-alternatives: using /usr/bin/display-im6.q16 to provide /usr/bin/display-im6 (display-im6) in auto mode\n",
            "update-alternatives: using /usr/bin/montage-im6.q16 to provide /usr/bin/montage (montage) in auto mode\n",
            "update-alternatives: using /usr/bin/montage-im6.q16 to provide /usr/bin/montage-im6 (montage-im6) in auto mode\n",
            "update-alternatives: using /usr/bin/mogrify-im6.q16 to provide /usr/bin/mogrify (mogrify) in auto mode\n",
            "update-alternatives: using /usr/bin/mogrify-im6.q16 to provide /usr/bin/mogrify-im6 (mogrify-im6) in auto mode\n",
            "Setting up libmagickcore-6.q16-3-extra:amd64 (8:6.9.7.4+dfsg-16ubuntu6.11) ...\n",
            "Setting up imagemagick (8:6.9.7.4+dfsg-16ubuntu6.11) ...\n",
            "Processing triggers for hicolor-icon-theme (0.17-2) ...\n",
            "Processing triggers for fontconfig (2.12.6-0ubuntu2) ...\n",
            "Processing triggers for mime-support (3.60ubuntu1) ...\n",
            "Processing triggers for libc-bin (2.27-3ubuntu1.3) ...\n",
            "/sbin/ldconfig.real: /usr/local/lib/python3.7/dist-packages/ideep4py/lib/libmkldnn.so.0 is not a symbolic link\n",
            "\n",
            "Processing triggers for man-db (2.8.3-2ubuntu0.1) ...\n"
          ]
        }
      ]
    },
    {
      "cell_type": "code",
      "metadata": {
        "colab": {
          "base_uri": "https://localhost:8080/"
        },
        "id": "5iRkoCNUNmV_",
        "outputId": "1342f390-e72a-48b4-a904-8cf139cf24e2"
      },
      "source": [
        "!pip install flask-ngrok"
      ],
      "execution_count": 15,
      "outputs": [
        {
          "output_type": "stream",
          "name": "stdout",
          "text": [
            "Collecting flask-ngrok\n",
            "  Downloading flask_ngrok-0.0.25-py3-none-any.whl (3.1 kB)\n",
            "Requirement already satisfied: requests in /usr/local/lib/python3.7/dist-packages (from flask-ngrok) (2.23.0)\n",
            "Requirement already satisfied: Flask>=0.8 in /usr/local/lib/python3.7/dist-packages (from flask-ngrok) (1.1.4)\n",
            "Requirement already satisfied: Jinja2<3.0,>=2.10.1 in /usr/local/lib/python3.7/dist-packages (from Flask>=0.8->flask-ngrok) (2.11.3)\n",
            "Requirement already satisfied: itsdangerous<2.0,>=0.24 in /usr/local/lib/python3.7/dist-packages (from Flask>=0.8->flask-ngrok) (1.1.0)\n",
            "Requirement already satisfied: click<8.0,>=5.1 in /usr/local/lib/python3.7/dist-packages (from Flask>=0.8->flask-ngrok) (7.1.2)\n",
            "Requirement already satisfied: Werkzeug<2.0,>=0.15 in /usr/local/lib/python3.7/dist-packages (from Flask>=0.8->flask-ngrok) (1.0.1)\n",
            "Requirement already satisfied: MarkupSafe>=0.23 in /usr/local/lib/python3.7/dist-packages (from Jinja2<3.0,>=2.10.1->Flask>=0.8->flask-ngrok) (2.0.1)\n",
            "Requirement already satisfied: chardet<4,>=3.0.2 in /usr/local/lib/python3.7/dist-packages (from requests->flask-ngrok) (3.0.4)\n",
            "Requirement already satisfied: idna<3,>=2.5 in /usr/local/lib/python3.7/dist-packages (from requests->flask-ngrok) (2.10)\n",
            "Requirement already satisfied: certifi>=2017.4.17 in /usr/local/lib/python3.7/dist-packages (from requests->flask-ngrok) (2021.5.30)\n",
            "Requirement already satisfied: urllib3!=1.25.0,!=1.25.1,<1.26,>=1.21.1 in /usr/local/lib/python3.7/dist-packages (from requests->flask-ngrok) (1.24.3)\n",
            "Installing collected packages: flask-ngrok\n",
            "Successfully installed flask-ngrok-0.0.25\n"
          ]
        }
      ]
    },
    {
      "cell_type": "code",
      "metadata": {
        "colab": {
          "base_uri": "https://localhost:8080/"
        },
        "id": "tnGdC2TWBe_u",
        "outputId": "ce011fdb-51ca-4259-859a-92995068b406"
      },
      "source": [
        "cd /content"
      ],
      "execution_count": 28,
      "outputs": [
        {
          "output_type": "stream",
          "name": "stdout",
          "text": [
            "/content\n"
          ]
        }
      ]
    },
    {
      "cell_type": "code",
      "metadata": {
        "colab": {
          "base_uri": "https://localhost:8080/"
        },
        "id": "R917Hu9eFR_B",
        "outputId": "ac515c84-f806-4888-b1b6-2e556539f8ed"
      },
      "source": [
        "!convert 1.tif -compress jpeg -quality 90 -define tiff:tile-geometry=256x256 ptif:1.tiff"
      ],
      "execution_count": 29,
      "outputs": [
        {
          "metadata": {
            "tags": null
          },
          "name": "stdout",
          "output_type": "stream",
          "text": [
            "tcmalloc: large alloc 3552649216 bytes == 0x55d2c610a000 @  0x7f50345a2b6b 0x7f50345c2379 0x7f50341fc508 0x7f50341209ff 0x7f50341029c8 0x7f5034123f9b 0x7f50341e799a 0x7f503425c85c 0x7f502f6bc8c7 0x7f5034150605 0x7f5034150f52 0x7f5033deebf9 0x7f5033e570d4 0x55d2c3ad68f9 0x7f50339dfbf7 0x55d2c3ad695a\n",
            "tcmalloc: large alloc 7105290240 bytes == 0x55d399d26000 @  0x7f50345a2b6b 0x7f50345c2379 0x7f50341fc508 0x7f50341209ff 0x7f50341029c8 0x7f5034123f9b 0x7f50341e799a 0x7f503425c890 0x7f502f6bc8c7 0x7f5034150605 0x7f5034150f52 0x7f5033deebf9 0x7f5033e570d4 0x55d2c3ad68f9 0x7f50339dfbf7 0x55d2c3ad695a\n",
            "tcmalloc: large alloc 3552649216 bytes == 0x55d3cec20000 @  0x7f50345a2b6b 0x7f50345c2379 0x7f50341fc508 0x7f50341209ff 0x7f50341029c8 0x7f5034123f9b 0x7f50341e799a 0x7f503425c9d7 0x7f502f6bc8c7 0x7f5034150605 0x7f5034150f52 0x7f5033deebf9 0x7f5033e570d4 0x55d2c3ad68f9 0x7f50339dfbf7 0x55d2c3ad695a\n"
          ]
        }
      ]
    },
    {
      "cell_type": "code",
      "metadata": {
        "colab": {
          "base_uri": "https://localhost:8080/"
        },
        "id": "M0XpyRY3ZbAy",
        "outputId": "6bee90ca-93ae-47b2-80a4-750c1cb9d23a"
      },
      "source": [
        "cd /content/drive/MyDrive/api"
      ],
      "execution_count": 31,
      "outputs": [
        {
          "output_type": "stream",
          "name": "stdout",
          "text": [
            "/content/drive/MyDrive/api\n"
          ]
        }
      ]
    },
    {
      "cell_type": "code",
      "metadata": {
        "id": "zwNzv4fBLdoW"
      },
      "source": [
        "from flask import *\n",
        "import os\n",
        "from DigiPathAI.Segmentation import getSegmentation\n",
        "import cv2\n",
        "from inspect import getsourcefile\n",
        "from os.path import abspath\n",
        "from flask_ngrok import run_with_ngrok\n",
        "\n",
        "app = Flask(__name__)\n",
        "run_with_ngrok(app) \n",
        "dir_path = os.getcwd()\n",
        "print(dir_path)\n",
        "pics_folder = os.path.join(dir_path, 'static')\n",
        "\n",
        "\n",
        "@app.route('/')\n",
        "def upload():\n",
        "    return render_template('file_upload_form.html')\n",
        "\n",
        "\n",
        "@app.route('/success', methods=['POST'])\n",
        "def success():\n",
        "    if request.method == 'POST':\n",
        "        f = request.files['file']\n",
        "        file_path = os.path.join(pics_folder, str(f.filename))\n",
        "        f.save(os.path.join('static', f.filename))\n",
        "        print(file_path)\n",
        "        prediction = getSegmentation(file_path,\n",
        "                                     patch_size=256,\n",
        "                                     stride_size=128,\n",
        "                                     batch_size=32,\n",
        "                                     quick=True,\n",
        "                                     tta_list=None,\n",
        "                                     crf=False,\n",
        "                                     status=None,\n",
        "                                     mode='colon')\n",
        "        output_path = os.path.join(pics_folder, \"output.png\")\n",
        "        cv2.imwrite(output_path, prediction)\n",
        "        print(output_path)\n",
        "        return render_template('success.html')\n",
        "\n",
        "\n",
        "if __name__ == '__main__':\n",
        "    app.run()"
      ],
      "execution_count": null,
      "outputs": []
    }
  ]
}